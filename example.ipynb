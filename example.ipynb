{
 "cells": [
  {
   "cell_type": "code",
   "execution_count": 1,
   "id": "e35d8edf",
   "metadata": {},
   "outputs": [],
   "source": [
    "from wordle_agent import wordle_agent"
   ]
  },
  {
   "cell_type": "code",
   "execution_count": 2,
   "id": "0a731236",
   "metadata": {},
   "outputs": [],
   "source": [
    "actor = wordle_agent()"
   ]
  },
  {
   "cell_type": "code",
   "execution_count": 3,
   "id": "8f3b7e41",
   "metadata": {},
   "outputs": [
    {
     "data": {
      "text/plain": [
       "5757"
      ]
     },
     "execution_count": 3,
     "metadata": {},
     "output_type": "execute_result"
    }
   ],
   "source": [
    "len(actor.possible_words())"
   ]
  },
  {
   "cell_type": "code",
   "execution_count": 4,
   "id": "ef16c9d3",
   "metadata": {},
   "outputs": [
    {
     "name": "stdout",
     "output_type": "stream",
     "text": [
      "127 possible words left\n"
     ]
    }
   ],
   "source": [
    "actor.update_prior(\"aloes\", \"B___B\")"
   ]
  },
  {
   "cell_type": "code",
   "execution_count": 5,
   "id": "dbef846e",
   "metadata": {},
   "outputs": [
    {
     "name": "stdout",
     "output_type": "stream",
     "text": [
      "Best guess is swart\n"
     ]
    }
   ],
   "source": [
    "actor.act()"
   ]
  },
  {
   "cell_type": "code",
   "execution_count": 6,
   "id": "26025814",
   "metadata": {},
   "outputs": [
    {
     "name": "stdout",
     "output_type": "stream",
     "text": [
      "11 possible words left\n"
     ]
    }
   ],
   "source": [
    "actor.update_prior(\"smart\", \"A_AA_\")"
   ]
  },
  {
   "cell_type": "code",
   "execution_count": 7,
   "id": "49af04ed",
   "metadata": {},
   "outputs": [
    {
     "name": "stdout",
     "output_type": "stream",
     "text": [
      "Best guess is punch\n"
     ]
    }
   ],
   "source": [
    "actor.act()"
   ]
  },
  {
   "cell_type": "code",
   "execution_count": 8,
   "id": "71cfc689",
   "metadata": {},
   "outputs": [
    {
     "name": "stdout",
     "output_type": "stream",
     "text": [
      "2 possible words left\n"
     ]
    }
   ],
   "source": [
    "actor.update_prior(\"punch\", \"____B\")"
   ]
  },
  {
   "cell_type": "code",
   "execution_count": 9,
   "id": "1ef04e20",
   "metadata": {},
   "outputs": [
    {
     "name": "stdout",
     "output_type": "stream",
     "text": [
      "Best guess is shard\n"
     ]
    }
   ],
   "source": [
    "actor.act()"
   ]
  },
  {
   "cell_type": "code",
   "execution_count": 10,
   "id": "cf4c91b0",
   "metadata": {},
   "outputs": [
    {
     "data": {
      "text/plain": [
       "['shark', 'shard']"
      ]
     },
     "execution_count": 10,
     "metadata": {},
     "output_type": "execute_result"
    }
   ],
   "source": [
    "actor.possible_words()"
   ]
  },
  {
   "cell_type": "code",
   "execution_count": 11,
   "id": "057bb50b",
   "metadata": {},
   "outputs": [
    {
     "name": "stdout",
     "output_type": "stream",
     "text": [
      "1 possible words left\n"
     ]
    }
   ],
   "source": [
    "actor.update_prior(\"shard\", \"AAAAA\")"
   ]
  },
  {
   "cell_type": "code",
   "execution_count": 12,
   "id": "69f2b9ff",
   "metadata": {},
   "outputs": [
    {
     "data": {
      "text/plain": [
       "['shard']"
      ]
     },
     "execution_count": 12,
     "metadata": {},
     "output_type": "execute_result"
    }
   ],
   "source": [
    "actor.possible_words()"
   ]
  }
 ],
 "metadata": {
  "kernelspec": {
   "display_name": "Python 3",
   "language": "python",
   "name": "python3"
  },
  "language_info": {
   "codemirror_mode": {
    "name": "ipython",
    "version": 3
   },
   "file_extension": ".py",
   "mimetype": "text/x-python",
   "name": "python",
   "nbconvert_exporter": "python",
   "pygments_lexer": "ipython3",
   "version": "3.8.8"
  }
 },
 "nbformat": 4,
 "nbformat_minor": 5
}
